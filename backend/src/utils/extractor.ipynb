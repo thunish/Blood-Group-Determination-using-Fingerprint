{
 "cells": [
  {
   "cell_type": "code",
   "execution_count": null,
   "id": "becac640",
   "metadata": {},
   "outputs": [
    {
     "ename": "ImportError",
     "evalue": "cannot import name 'greycomatrix' from 'skimage.feature' (c:\\Python312\\Lib\\site-packages\\skimage\\feature\\__init__.py)",
     "output_type": "error",
     "traceback": [
      "\u001b[1;31m---------------------------------------------------------------------------\u001b[0m",
      "\u001b[1;31mImportError\u001b[0m                               Traceback (most recent call last)",
      "Cell \u001b[1;32mIn[18], line 5\u001b[0m\n\u001b[0;32m      3\u001b[0m \u001b[38;5;28;01mfrom\u001b[39;00m \u001b[38;5;21;01mskimage\u001b[39;00m\u001b[38;5;21;01m.\u001b[39;00m\u001b[38;5;21;01mcolor\u001b[39;00m \u001b[38;5;28;01mimport\u001b[39;00m rgb2gray\n\u001b[0;32m      4\u001b[0m \u001b[38;5;28;01mfrom\u001b[39;00m \u001b[38;5;21;01mscipy\u001b[39;00m \u001b[38;5;28;01mimport\u001b[39;00m stats\n\u001b[1;32m----> 5\u001b[0m \u001b[38;5;28;01mfrom\u001b[39;00m \u001b[38;5;21;01mskimage\u001b[39;00m\u001b[38;5;21;01m.\u001b[39;00m\u001b[38;5;21;01mfeature\u001b[39;00m \u001b[38;5;28;01mimport\u001b[39;00m greycomatrix, greycoprops\n",
      "\u001b[1;31mImportError\u001b[0m: cannot import name 'greycomatrix' from 'skimage.feature' (c:\\Python312\\Lib\\site-packages\\skimage\\feature\\__init__.py)"
     ]
    }
   ],
   "source": [
    "import numpy as np\n",
    "from skimage.feature import local_binary_pattern\n",
    "from skimage.color import rgb2gray\n",
    "from scipy import stats\n",
    "from skimage.feature import greycomatrix, greycoprops\n"
   ]
  },
  {
   "cell_type": "code",
   "execution_count": 7,
   "id": "f845baba",
   "metadata": {},
   "outputs": [],
   "source": [
    "def to_gray_unit8(image):\n",
    "    if(image.max()<=1.0):\n",
    "        image=(image*255).astype(np.uint8)\n",
    "    if len(image.shape)==3:\n",
    "        image=(image*255).astype(np.uint8)\n",
    "    return image"
   ]
  },
  {
   "cell_type": "code",
   "execution_count": null,
   "id": "80b4839c",
   "metadata": {},
   "outputs": [],
   "source": [
    "def compute_glcm_features(image)"
   ]
  }
 ],
 "metadata": {
  "kernelspec": {
   "display_name": "Python 3",
   "language": "python",
   "name": "python3"
  },
  "language_info": {
   "codemirror_mode": {
    "name": "ipython",
    "version": 3
   },
   "file_extension": ".py",
   "mimetype": "text/x-python",
   "name": "python",
   "nbconvert_exporter": "python",
   "pygments_lexer": "ipython3",
   "version": "3.12.2"
  }
 },
 "nbformat": 4,
 "nbformat_minor": 5
}
